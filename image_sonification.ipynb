{
  "nbformat": 4,
  "nbformat_minor": 0,
  "metadata": {
    "colab": {
      "provenance": [],
      "gpuType": "T4"
    },
    "kernelspec": {
      "name": "python3",
      "display_name": "Python 3"
    },
    "language_info": {
      "name": "python"
    },
    "accelerator": "GPU"
  },
  "cells": [
    {
      "cell_type": "code",
      "source": [
        "! pip install pydub"
      ],
      "metadata": {
        "colab": {
          "base_uri": "https://localhost:8080/"
        },
        "id": "kUhFqX29c7y7",
        "outputId": "3f6a0def-5581-4638-dbdd-f0a45bb16068"
      },
      "execution_count": null,
      "outputs": [
        {
          "output_type": "stream",
          "name": "stdout",
          "text": [
            "Collecting pydub\n",
            "  Downloading pydub-0.25.1-py2.py3-none-any.whl.metadata (1.4 kB)\n",
            "Downloading pydub-0.25.1-py2.py3-none-any.whl (32 kB)\n",
            "Installing collected packages: pydub\n",
            "Successfully installed pydub-0.25.1\n"
          ]
        }
      ]
    },
    {
      "cell_type": "code",
      "source": [
        "import numpy as np\n",
        "import pandas as pd\n",
        "from pydub import AudioSegment\n",
        "from pydub.generators import Sine, Square, Sawtooth\n",
        "import torch\n",
        "\n",
        "# Check if GPU is available\n",
        "device = torch.device('cuda' if torch.cuda.is_available() else 'cpu')\n",
        "print(f'Using device: {device}')\n",
        "\n",
        "# Function to calculate brightness from RGB\n",
        "def brightness(r, g, b):\n",
        "    return 0.299 * r + 0.587 * g + 0.114 * b\n",
        "\n",
        "# Function to map brightness to pitch\n",
        "def brightness_to_pitch(brightness):\n",
        "    # Map brightness (0-255) to frequency (220-880 Hz)\n",
        "    return 220 + (brightness / 255.0) * 660\n",
        "\n",
        "# Function to generate sound from RGB\n",
        "def rgb_to_sound(r, g, b, duration=100):\n",
        "    pitch = brightness_to_pitch(brightness(r, g, b))\n",
        "\n",
        "    # Choose sound based on dominant color\n",
        "    if r > g and r > b:\n",
        "        tone = Sine(pitch).to_audio_segment(duration=duration)\n",
        "    elif g > r and g > b:\n",
        "        tone = Square(pitch).to_audio_segment(duration=duration)\n",
        "    else:\n",
        "        tone = Sawtooth(pitch).to_audio_segment(duration=duration)\n",
        "\n",
        "    return tone\n",
        "\n",
        "# Load RGB values from CSV\n",
        "df = pd.read_csv('/content/galaxy_pixel_data.csv')  # Replace with your CSV file path\n",
        "\n",
        "# Take the first 1000 rows\n",
        "df_subset = df.head(1100)\n",
        "\n",
        "# Convert to PyTorch tensors and move to GPU\n",
        "r_tensor = torch.tensor(df_subset['R'].values, dtype=torch.float32).to(device)\n",
        "g_tensor = torch.tensor(df_subset['G'].values, dtype=torch.float32).to(device)\n",
        "b_tensor = torch.tensor(df_subset['B'].values, dtype=torch.float32).to(device)\n",
        "\n",
        "# Create an empty audio segment\n",
        "audio = AudioSegment.silent(duration=0)\n",
        "\n",
        "# Generate sound for each pixel in the subset\n",
        "for r, g, b in zip(r_tensor, g_tensor, b_tensor):\n",
        "    tone = rgb_to_sound(r.item(), g.item(), b.item())\n",
        "    audio += tone\n",
        "\n",
        "# Export the final sound file\n",
        "output_filename = \"output_sound_1100_rows_gpu.wav\"\n",
        "audio.export(output_filename, format=\"wav\")\n",
        "print(f\"Generated {output_filename}\")\n",
        "\n"
      ],
      "metadata": {
        "colab": {
          "base_uri": "https://localhost:8080/"
        },
        "id": "d6ryD10ThLVy",
        "outputId": "d9c5e7e8-9072-4913-a641-30dbda14f6bd"
      },
      "execution_count": null,
      "outputs": [
        {
          "output_type": "stream",
          "name": "stdout",
          "text": [
            "Using device: cuda\n",
            "Generated output_sound_1000_rows_gpu.wav\n"
          ]
        }
      ]
    },
    {
      "cell_type": "code",
      "execution_count": null,
      "metadata": {
        "colab": {
          "base_uri": "https://localhost:8080/"
        },
        "id": "tN90Dzlpc4bE",
        "outputId": "733f5314-e8ec-40ca-a4ec-bb3a9f399892"
      },
      "outputs": [
        {
          "output_type": "stream",
          "name": "stderr",
          "text": [
            "<ipython-input-4-61909545e456>:45: SettingWithCopyWarning: \n",
            "A value is trying to be set on a copy of a slice from a DataFrame.\n",
            "Try using .loc[row_indexer,col_indexer] = value instead\n",
            "\n",
            "See the caveats in the documentation: https://pandas.pydata.org/pandas-docs/stable/user_guide/indexing.html#returning-a-view-versus-a-copy\n",
            "  df_subset['X'] = np.linspace(0, len(df_subset) - 1, len(df_subset))\n"
          ]
        },
        {
          "output_type": "stream",
          "name": "stdout",
          "text": [
            "Generated output2_sound_1100_rows_mapping.wav\n"
          ]
        }
      ],
      "source": [
        "import numpy as np\n",
        "import pandas as pd\n",
        "from pydub import AudioSegment\n",
        "from pydub.generators import Sine\n",
        "\n",
        "# Function to calculate brightness from RGB\n",
        "def brightness(r, g, b):\n",
        "    return 0.299 * r + 0.587 * g + 0.114 * b\n",
        "\n",
        "# Function to map brightness to frequency\n",
        "def brightness_to_frequency(brightness):\n",
        "    # Map brightness (0-255) to frequency (220-880 Hz)\n",
        "    return 220 + (brightness / 255.0) * 660\n",
        "\n",
        "# Function to map RGB sum to amplitude\n",
        "def rgb_to_amplitude(r, g, b):\n",
        "    # Map RGB sum (0-765) to amplitude (0-1)\n",
        "    return (r + g + b) / 765.0\n",
        "\n",
        "# Function to map x-coordinate to stereo panning\n",
        "def x_to_pan(x, max_x):\n",
        "    # Map x-coordinate (0-max_x) to panning (-1.0 to 1.0)\n",
        "    return (x / max_x) * 2 - 1\n",
        "\n",
        "# Function to generate sound from RGB and x-coordinate\n",
        "def pixel_to_sound(r, g, b, x, max_x, duration=100):\n",
        "    brightness_value = brightness(r, g, b)\n",
        "    frequency = brightness_to_frequency(brightness_value)\n",
        "    amplitude = rgb_to_amplitude(r, g, b)\n",
        "    pan = x_to_pan(x, max_x)\n",
        "\n",
        "    # Generate sine wave with the calculated frequency and amplitude\n",
        "    tone = Sine(frequency).to_audio_segment(duration=duration).apply_gain(amplitude * 20 - 20)  # Apply gain to match amplitude\n",
        "\n",
        "    # Pan the sound\n",
        "    tone = tone.pan(pan)\n",
        "\n",
        "    return tone\n",
        "\n",
        "# Load RGB values from CSV\n",
        "df = pd.read_csv('/content/galaxy_pixel_data.csv')  # Replace with your CSV file path\n",
        "\n",
        "# Take the first 1000 rows and add an x-coordinate column\n",
        "df_subset = df.head(1100)\n",
        "df_subset['X'] = np.linspace(0, len(df_subset) - 1, len(df_subset))\n",
        "\n",
        "# Create an empty audio segment\n",
        "audio = AudioSegment.silent(duration=0)\n",
        "\n",
        "# Generate sound for each pixel in the subset\n",
        "max_x = len(df_subset) - 1\n",
        "for index, row in df_subset.iterrows():\n",
        "    r, g, b, x = row['R'], row['G'], row['B'], row['X']\n",
        "    tone = pixel_to_sound(r, g, b, x, max_x)\n",
        "    audio += tone\n",
        "\n",
        "# Export the final sound file\n",
        "output_filename = \"output2_sound_1100_rows_mapping.wav\"\n",
        "audio.export(output_filename, format=\"wav\")\n",
        "print(f\"Generated {output_filename}\")\n",
        "\n"
      ]
    },
    {
      "cell_type": "code",
      "source": [
        "import numpy as np\n",
        "import pandas as pd\n",
        "from pydub import AudioSegment\n",
        "from pydub.generators import Sine\n",
        "import colorsys\n",
        "\n",
        "# Function to convert RGB to HSV\n",
        "def rgb_to_hsv(r, g, b):\n",
        "    return colorsys.rgb_to_hsv(r / 255.0, g / 255.0, b / 255.0)\n",
        "\n",
        "# Function to map hue to frequency\n",
        "def hue_to_frequency(hue):\n",
        "    # Map hue (0-1) to frequency (220-880 Hz)\n",
        "    return 220 + hue * 660\n",
        "\n",
        "# Function to map saturation to amplitude\n",
        "def saturation_to_amplitude(saturation):\n",
        "    # Map saturation (0-1) to amplitude (0-1)\n",
        "    return saturation\n",
        "\n",
        "# Function to map value to duration\n",
        "def value_to_duration(value):\n",
        "    # Map value (0-1) to duration (100-500 ms)\n",
        "    return 100 + value * 400\n",
        "\n",
        "# Function to generate sound from HSV\n",
        "def hsv_to_sound(hue, saturation, value):\n",
        "    frequency = hue_to_frequency(hue)\n",
        "    amplitude = saturation_to_amplitude(saturation)\n",
        "    duration = value_to_duration(value)\n",
        "\n",
        "    # Generate sine wave with the calculated frequency and amplitude\n",
        "    tone = Sine(frequency).to_audio_segment(duration=duration).apply_gain(amplitude * 20 - 20)  # Apply gain to match amplitude\n",
        "\n",
        "    return tone\n",
        "\n",
        "# Load RGB values from CSV\n",
        "df = pd.read_csv('/content/galaxy_pixel_data.csv')  # Replace with your CSV file path\n",
        "\n",
        "# Take the first 1000 rows\n",
        "df_subset = df.head(1100)\n",
        "\n",
        "# Create an empty audio segment\n",
        "audio = AudioSegment.silent(duration=0)\n",
        "\n",
        "# Generate sound for each pixel in the subset\n",
        "for index, row in df_subset.iterrows():\n",
        "    r, g, b = row['R'], row['G'], row['B']\n",
        "    hue, saturation, value = rgb_to_hsv(r, g, b)\n",
        "    tone = hsv_to_sound(hue, saturation, value)\n",
        "    audio += tone\n",
        "\n",
        "# Export the final sound file\n",
        "output_filename = \"output3_sound_1100_rows_hsv_mapping.wav\"\n",
        "audio.export(output_filename, format=\"wav\")\n",
        "print(f\"Generated {output_filename}\")\n",
        "\n"
      ],
      "metadata": {
        "colab": {
          "base_uri": "https://localhost:8080/"
        },
        "id": "8EaaYPysdO35",
        "outputId": "46a9bffe-6017-4666-a7a6-9285b8778770"
      },
      "execution_count": null,
      "outputs": [
        {
          "output_type": "stream",
          "name": "stdout",
          "text": [
            "Generated output3_sound_1100_rows_hsv_mapping.wav\n"
          ]
        }
      ]
    },
    {
      "cell_type": "code",
      "source": [],
      "metadata": {
        "id": "U9lWL7myqRA6"
      },
      "execution_count": null,
      "outputs": []
    }
  ]
}